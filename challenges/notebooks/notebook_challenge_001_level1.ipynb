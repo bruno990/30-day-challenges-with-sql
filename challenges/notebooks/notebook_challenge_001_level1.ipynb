{
  "cells": [
    {
      "cell_type": "markdown",
      "id": "bc8a16a6",
      "metadata": {
        "id": "bc8a16a6"
      },
      "source": [
        "\n",
        "# Por favor tente resolver o desafio sozinho, não pegue atalhos, tu consegue, é só colocar a cabeça para funcionar."
      ]
    },
    {
      "cell_type": "markdown",
      "id": "4ffaa676",
      "metadata": {
        "id": "4ffaa676"
      },
      "source": [
        "Execute a célula abaixo apenas uma vez."
      ]
    },
    {
      "cell_type": "code",
      "execution_count": 1,
      "id": "b2be889b",
      "metadata": {
        "id": "b2be889b",
        "outputId": "1cb6b12a-0072-4c5b-c22e-410baee2adeb",
        "colab": {
          "base_uri": "https://localhost:8080/"
        }
      },
      "outputs": [
        {
          "output_type": "stream",
          "name": "stdout",
          "text": [
            "Process is interrupted.\n"
          ]
        }
      ],
      "source": [
        "%%bash\n",
        "\n",
        "rm -rf /tmp/github; mkdir -p /tmp/github; cd /tmp/github\n",
        "git clone https://github.com/bruno990/30-day-challenges-with-sql.git\n",
        "sh /tmp/github/30-day-challenges-with-sql/challenges/utils/install-miniconda.sh > /dev/null 2>&1\n",
        "sh /tmp/github/30-day-challenges-with-sql/challenges/utils/update-miniconda.sh > /dev/null 2>&1"
      ]
    },
    {
      "cell_type": "markdown",
      "id": "7b62dd5e",
      "metadata": {
        "id": "7b62dd5e"
      },
      "source": [
        "Neste primeiro desafio super fácil, precisamos apenas dos registros do campo `Email` da tabela Customers onde o domínio seja da `apple`.\n",
        "Crie uma query que retorne esse resultado e escreva uma breve explicação do código implementado:\n",
        "\n",
        "\n",
        "Resultado esperado:  \n",
        "\n",
        "Email |\n",
        "-|\n",
        "astrid.gruber@apple.at| \n",
        "daan_peeters@apple.be| \n",
        "tgoyer@apple.com| \n",
        "isabelle_mercier@apple.fr| \n",
        "terhi.hamalainen@apple.fi| \n",
        "ladislav_kovacs@apple.hu| \n",
        "hughoreilly@apple.ie| \n",
        "\n",
        "Na célula onde se encontra o `%%sql`, escreva sua query, sem deletar o comando. Exemplo:  \n",
        "```python\n",
        "%%sql\n",
        "select * from Customer\n",
        "```\n",
        "\n",
        "Para resolução utilize a documentação do sqlite:https://www.sqlite.org/docs.html"
      ]
    },
    {
      "cell_type": "code",
      "execution_count": 2,
      "id": "78b7cbdc",
      "metadata": {
        "id": "78b7cbdc",
        "outputId": "eb9216f6-289b-4b32-c9ee-083a2c8015c5",
        "colab": {
          "base_uri": "https://localhost:8080/",
          "height": 35
        }
      },
      "outputs": [
        {
          "output_type": "execute_result",
          "data": {
            "text/plain": [
              "'Connected: @//tmp/github/30-day-challenges-with-sql/challenges/utils/db/database.db'"
            ],
            "application/vnd.google.colaboratory.intrinsic+json": {
              "type": "string"
            }
          },
          "metadata": {},
          "execution_count": 2
        }
      ],
      "source": [
        "%load_ext sql\n",
        "%sql sqlite://///tmp/github/30-day-challenges-with-sql/challenges/utils/db/database.db"
      ]
    },
    {
      "cell_type": "markdown",
      "id": "be967233",
      "metadata": {
        "id": "be967233"
      },
      "source": [
        "explicação da implementação do código\n",
        "...."
      ]
    },
    {
      "cell_type": "code",
      "source": [
        "%%sql\n",
        "\n",
        "select * from sqlite_master where type = \"table\""
      ],
      "metadata": {
        "id": "DOyvjPcsAeRJ",
        "outputId": "9b3c1232-7d9c-4077-e91a-f27e41a7bacf",
        "colab": {
          "base_uri": "https://localhost:8080/",
          "height": 1000
        }
      },
      "id": "DOyvjPcsAeRJ",
      "execution_count": 15,
      "outputs": [
        {
          "output_type": "stream",
          "name": "stdout",
          "text": [
            " * sqlite://///tmp/github/30-day-challenges-with-sql/challenges/utils/db/database.db\n",
            "Done.\n"
          ]
        },
        {
          "output_type": "execute_result",
          "data": {
            "text/plain": [
              "[('table', 'Album', 'Album', 2, 'CREATE TABLE [Album]\\n(\\n    [AlbumId] INTEGER  NOT NULL,\\n    [Title] NVARCHAR(160)  NOT NULL,\\n    [ArtistId] INTEGER  NOT NULL, Column1 BLOB NULL, ... (16 characters truncated) ...  [PK_Album] PRIMARY KEY  ([AlbumId]),\\n    FOREIGN KEY ([ArtistId]) REFERENCES [Artist] ([ArtistId]) \\n\\t\\tON DELETE NO ACTION ON UPDATE NO ACTION\\n)'),\n",
              " ('table', 'Artist', 'Artist', 3, 'CREATE TABLE [Artist]\\n(\\n    [ArtistId] INTEGER  NOT NULL,\\n    [Name] NVARCHAR(120),\\n    CONSTRAINT [PK_Artist] PRIMARY KEY  ([ArtistId])\\n)'),\n",
              " ('table', 'Customer', 'Customer', 4, 'CREATE TABLE [Customer]\\n(\\n    [CustomerId] INTEGER  NOT NULL,\\n    [FirstName] NVARCHAR(40)  NOT NULL,\\n    [LastName] NVARCHAR(20)  NOT NULL,\\n    ... (315 characters truncated) ...  PRIMARY KEY  ([CustomerId]),\\n    FOREIGN KEY ([SupportRepId]) REFERENCES [Employee] ([EmployeeId]) \\n\\t\\tON DELETE NO ACTION ON UPDATE NO ACTION\\n)'),\n",
              " ('table', 'Employee', 'Employee', 7, 'CREATE TABLE [Employee]\\n(\\n    [EmployeeId] INTEGER  NOT NULL,\\n    [LastName] NVARCHAR(20)  NOT NULL,\\n    [FirstName] NVARCHAR(20)  NOT NULL,\\n    ... (350 characters truncated) ... ee] PRIMARY KEY  ([EmployeeId]),\\n    FOREIGN KEY ([ReportsTo]) REFERENCES [Employee] ([EmployeeId]) \\n\\t\\tON DELETE NO ACTION ON UPDATE NO ACTION\\n)'),\n",
              " ('table', 'Genre', 'Genre', 9, 'CREATE TABLE [Genre]\\n(\\n    [GenreId] INTEGER  NOT NULL,\\n    [Name] NVARCHAR(120),\\n    CONSTRAINT [PK_Genre] PRIMARY KEY  ([GenreId])\\n)'),\n",
              " ('table', 'Invoice', 'Invoice', 10, 'CREATE TABLE [Invoice]\\n(\\n    [InvoiceId] INTEGER  NOT NULL,\\n    [CustomerId] INTEGER  NOT NULL,\\n    [InvoiceDate] DATETIME  NOT NULL,\\n    [Billi ... (230 characters truncated) ... ce] PRIMARY KEY  ([InvoiceId]),\\n    FOREIGN KEY ([CustomerId]) REFERENCES [Customer] ([CustomerId]) \\n\\t\\tON DELETE NO ACTION ON UPDATE NO ACTION\\n)'),\n",
              " ('table', 'InvoiceLine', 'InvoiceLine', 12, 'CREATE TABLE [InvoiceLine]\\n(\\n    [InvoiceLineId] INTEGER  NOT NULL,\\n    [InvoiceId] INTEGER  NOT NULL,\\n    [TrackId] INTEGER  NOT NULL,\\n    [Uni ... (205 characters truncated) ... ON DELETE NO ACTION ON UPDATE NO ACTION,\\n    FOREIGN KEY ([TrackId]) REFERENCES [Track] ([TrackId]) \\n\\t\\tON DELETE NO ACTION ON UPDATE NO ACTION\\n)'),\n",
              " ('table', 'MediaType', 'MediaType', 14, 'CREATE TABLE [MediaType]\\n(\\n    [MediaTypeId] INTEGER  NOT NULL,\\n    [Name] NVARCHAR(120),\\n    CONSTRAINT [PK_MediaType] PRIMARY KEY  ([MediaTypeId])\\n)'),\n",
              " ('table', 'Playlist', 'Playlist', 15, 'CREATE TABLE [Playlist]\\n(\\n    [PlaylistId] INTEGER  NOT NULL,\\n    [Name] NVARCHAR(120),\\n    CONSTRAINT [PK_Playlist] PRIMARY KEY  ([PlaylistId])\\n)'),\n",
              " ('table', 'PlaylistTrack', 'PlaylistTrack', 16, 'CREATE TABLE [PlaylistTrack]\\n(\\n    [PlaylistId] INTEGER  NOT NULL,\\n    [TrackId] INTEGER  NOT NULL,\\n    CONSTRAINT [PK_PlaylistTrack] PRIMARY KEY ... (104 characters truncated) ... ON DELETE NO ACTION ON UPDATE NO ACTION,\\n    FOREIGN KEY ([TrackId]) REFERENCES [Track] ([TrackId]) \\n\\t\\tON DELETE NO ACTION ON UPDATE NO ACTION\\n)'),\n",
              " ('table', 'Track', 'Track', 19, 'CREATE TABLE [Track]\\n(\\n    [TrackId] INTEGER  NOT NULL,\\n    [Name] NVARCHAR(200)  NOT NULL,\\n    [AlbumId] INTEGER,\\n    [MediaTypeId] INTEGER  NO ... (404 characters truncated) ...  ACTION ON UPDATE NO ACTION,\\n    FOREIGN KEY ([MediaTypeId]) REFERENCES [MediaType] ([MediaTypeId]) \\n\\t\\tON DELETE NO ACTION ON UPDATE NO ACTION\\n)'),\n",
              " ('table', 'foo', 'foo', 1067, 'CREATE TABLE foo\\n    (\\n       bar int,\\n       baz varchar(20)\\n    )'),\n",
              " ('table', 'partner', 'partner', 1103, 'CREATE TABLE partner (\\n\\tid INTEGER,\\n\\tnome INTEGER\\n)'),\n",
              " ('table', 'documento', 'documento', 1104, 'CREATE TABLE documento (\\n\\tid INTEGER,\\n\\tid_partner INTEGER\\n)')]"
            ],
            "text/html": [
              "<table>\n",
              "    <thead>\n",
              "        <tr>\n",
              "            <th>type</th>\n",
              "            <th>name</th>\n",
              "            <th>tbl_name</th>\n",
              "            <th>rootpage</th>\n",
              "            <th>sql</th>\n",
              "        </tr>\n",
              "    </thead>\n",
              "    <tbody>\n",
              "        <tr>\n",
              "            <td>table</td>\n",
              "            <td>Album</td>\n",
              "            <td>Album</td>\n",
              "            <td>2</td>\n",
              "            <td>CREATE TABLE [Album]<br>(<br>    [AlbumId] INTEGER  NOT NULL,<br>    [Title] NVARCHAR(160)  NOT NULL,<br>    [ArtistId] INTEGER  NOT NULL, Column1 BLOB NULL,<br>    CONSTRAINT [PK_Album] PRIMARY KEY  ([AlbumId]),<br>    FOREIGN KEY ([ArtistId]) REFERENCES [Artist] ([ArtistId]) <br>\t\tON DELETE NO ACTION ON UPDATE NO ACTION<br>)</td>\n",
              "        </tr>\n",
              "        <tr>\n",
              "            <td>table</td>\n",
              "            <td>Artist</td>\n",
              "            <td>Artist</td>\n",
              "            <td>3</td>\n",
              "            <td>CREATE TABLE [Artist]<br>(<br>    [ArtistId] INTEGER  NOT NULL,<br>    [Name] NVARCHAR(120),<br>    CONSTRAINT [PK_Artist] PRIMARY KEY  ([ArtistId])<br>)</td>\n",
              "        </tr>\n",
              "        <tr>\n",
              "            <td>table</td>\n",
              "            <td>Customer</td>\n",
              "            <td>Customer</td>\n",
              "            <td>4</td>\n",
              "            <td>CREATE TABLE [Customer]<br>(<br>    [CustomerId] INTEGER  NOT NULL,<br>    [FirstName] NVARCHAR(40)  NOT NULL,<br>    [LastName] NVARCHAR(20)  NOT NULL,<br>    [Company] NVARCHAR(80),<br>    [Address] NVARCHAR(70),<br>    [City] NVARCHAR(40),<br>    [State] NVARCHAR(40),<br>    [Country] NVARCHAR(40),<br>    [PostalCode] NVARCHAR(10),<br>    [Phone] NVARCHAR(24),<br>    [Fax] NVARCHAR(24),<br>    [Email] NVARCHAR(60)  NOT NULL,<br>    [SupportRepId] INTEGER,<br>    CONSTRAINT [PK_Customer] PRIMARY KEY  ([CustomerId]),<br>    FOREIGN KEY ([SupportRepId]) REFERENCES [Employee] ([EmployeeId]) <br>\t\tON DELETE NO ACTION ON UPDATE NO ACTION<br>)</td>\n",
              "        </tr>\n",
              "        <tr>\n",
              "            <td>table</td>\n",
              "            <td>Employee</td>\n",
              "            <td>Employee</td>\n",
              "            <td>7</td>\n",
              "            <td>CREATE TABLE [Employee]<br>(<br>    [EmployeeId] INTEGER  NOT NULL,<br>    [LastName] NVARCHAR(20)  NOT NULL,<br>    [FirstName] NVARCHAR(20)  NOT NULL,<br>    [Title] NVARCHAR(30),<br>    [ReportsTo] INTEGER,<br>    [BirthDate] DATETIME,<br>    [HireDate] DATETIME,<br>    [Address] NVARCHAR(70),<br>    [City] NVARCHAR(40),<br>    [State] NVARCHAR(40),<br>    [Country] NVARCHAR(40),<br>    [PostalCode] NVARCHAR(10),<br>    [Phone] NVARCHAR(24),<br>    [Fax] NVARCHAR(24),<br>    [Email] NVARCHAR(60),<br>    CONSTRAINT [PK_Employee] PRIMARY KEY  ([EmployeeId]),<br>    FOREIGN KEY ([ReportsTo]) REFERENCES [Employee] ([EmployeeId]) <br>\t\tON DELETE NO ACTION ON UPDATE NO ACTION<br>)</td>\n",
              "        </tr>\n",
              "        <tr>\n",
              "            <td>table</td>\n",
              "            <td>Genre</td>\n",
              "            <td>Genre</td>\n",
              "            <td>9</td>\n",
              "            <td>CREATE TABLE [Genre]<br>(<br>    [GenreId] INTEGER  NOT NULL,<br>    [Name] NVARCHAR(120),<br>    CONSTRAINT [PK_Genre] PRIMARY KEY  ([GenreId])<br>)</td>\n",
              "        </tr>\n",
              "        <tr>\n",
              "            <td>table</td>\n",
              "            <td>Invoice</td>\n",
              "            <td>Invoice</td>\n",
              "            <td>10</td>\n",
              "            <td>CREATE TABLE [Invoice]<br>(<br>    [InvoiceId] INTEGER  NOT NULL,<br>    [CustomerId] INTEGER  NOT NULL,<br>    [InvoiceDate] DATETIME  NOT NULL,<br>    [BillingAddress] NVARCHAR(70),<br>    [BillingCity] NVARCHAR(40),<br>    [BillingState] NVARCHAR(40),<br>    [BillingCountry] NVARCHAR(40),<br>    [BillingPostalCode] NVARCHAR(10),<br>    [Total] NUMERIC(10,2)  NOT NULL,<br>    CONSTRAINT [PK_Invoice] PRIMARY KEY  ([InvoiceId]),<br>    FOREIGN KEY ([CustomerId]) REFERENCES [Customer] ([CustomerId]) <br>\t\tON DELETE NO ACTION ON UPDATE NO ACTION<br>)</td>\n",
              "        </tr>\n",
              "        <tr>\n",
              "            <td>table</td>\n",
              "            <td>InvoiceLine</td>\n",
              "            <td>InvoiceLine</td>\n",
              "            <td>12</td>\n",
              "            <td>CREATE TABLE [InvoiceLine]<br>(<br>    [InvoiceLineId] INTEGER  NOT NULL,<br>    [InvoiceId] INTEGER  NOT NULL,<br>    [TrackId] INTEGER  NOT NULL,<br>    [UnitPrice] NUMERIC(10,2)  NOT NULL,<br>    [Quantity] INTEGER  NOT NULL,<br>    CONSTRAINT [PK_InvoiceLine] PRIMARY KEY  ([InvoiceLineId]),<br>    FOREIGN KEY ([InvoiceId]) REFERENCES [Invoice] ([InvoiceId]) <br>\t\tON DELETE NO ACTION ON UPDATE NO ACTION,<br>    FOREIGN KEY ([TrackId]) REFERENCES [Track] ([TrackId]) <br>\t\tON DELETE NO ACTION ON UPDATE NO ACTION<br>)</td>\n",
              "        </tr>\n",
              "        <tr>\n",
              "            <td>table</td>\n",
              "            <td>MediaType</td>\n",
              "            <td>MediaType</td>\n",
              "            <td>14</td>\n",
              "            <td>CREATE TABLE [MediaType]<br>(<br>    [MediaTypeId] INTEGER  NOT NULL,<br>    [Name] NVARCHAR(120),<br>    CONSTRAINT [PK_MediaType] PRIMARY KEY  ([MediaTypeId])<br>)</td>\n",
              "        </tr>\n",
              "        <tr>\n",
              "            <td>table</td>\n",
              "            <td>Playlist</td>\n",
              "            <td>Playlist</td>\n",
              "            <td>15</td>\n",
              "            <td>CREATE TABLE [Playlist]<br>(<br>    [PlaylistId] INTEGER  NOT NULL,<br>    [Name] NVARCHAR(120),<br>    CONSTRAINT [PK_Playlist] PRIMARY KEY  ([PlaylistId])<br>)</td>\n",
              "        </tr>\n",
              "        <tr>\n",
              "            <td>table</td>\n",
              "            <td>PlaylistTrack</td>\n",
              "            <td>PlaylistTrack</td>\n",
              "            <td>16</td>\n",
              "            <td>CREATE TABLE [PlaylistTrack]<br>(<br>    [PlaylistId] INTEGER  NOT NULL,<br>    [TrackId] INTEGER  NOT NULL,<br>    CONSTRAINT [PK_PlaylistTrack] PRIMARY KEY  ([PlaylistId], [TrackId]),<br>    FOREIGN KEY ([PlaylistId]) REFERENCES [Playlist] ([PlaylistId]) <br>\t\tON DELETE NO ACTION ON UPDATE NO ACTION,<br>    FOREIGN KEY ([TrackId]) REFERENCES [Track] ([TrackId]) <br>\t\tON DELETE NO ACTION ON UPDATE NO ACTION<br>)</td>\n",
              "        </tr>\n",
              "        <tr>\n",
              "            <td>table</td>\n",
              "            <td>Track</td>\n",
              "            <td>Track</td>\n",
              "            <td>19</td>\n",
              "            <td>CREATE TABLE [Track]<br>(<br>    [TrackId] INTEGER  NOT NULL,<br>    [Name] NVARCHAR(200)  NOT NULL,<br>    [AlbumId] INTEGER,<br>    [MediaTypeId] INTEGER  NOT NULL,<br>    [GenreId] INTEGER,<br>    [Composer] NVARCHAR(220),<br>    [Milliseconds] INTEGER  NOT NULL,<br>    [Bytes] INTEGER,<br>    [UnitPrice] NUMERIC(10,2)  NOT NULL,<br>    CONSTRAINT [PK_Track] PRIMARY KEY  ([TrackId]),<br>    FOREIGN KEY ([AlbumId]) REFERENCES [Album] ([AlbumId]) <br>\t\tON DELETE NO ACTION ON UPDATE NO ACTION,<br>    FOREIGN KEY ([GenreId]) REFERENCES [Genre] ([GenreId]) <br>\t\tON DELETE NO ACTION ON UPDATE NO ACTION,<br>    FOREIGN KEY ([MediaTypeId]) REFERENCES [MediaType] ([MediaTypeId]) <br>\t\tON DELETE NO ACTION ON UPDATE NO ACTION<br>)</td>\n",
              "        </tr>\n",
              "        <tr>\n",
              "            <td>table</td>\n",
              "            <td>foo</td>\n",
              "            <td>foo</td>\n",
              "            <td>1067</td>\n",
              "            <td>CREATE TABLE foo<br>    (<br>       bar int,<br>       baz varchar(20)<br>    )</td>\n",
              "        </tr>\n",
              "        <tr>\n",
              "            <td>table</td>\n",
              "            <td>partner</td>\n",
              "            <td>partner</td>\n",
              "            <td>1103</td>\n",
              "            <td>CREATE TABLE partner (<br>\tid INTEGER,<br>\tnome INTEGER<br>)</td>\n",
              "        </tr>\n",
              "        <tr>\n",
              "            <td>table</td>\n",
              "            <td>documento</td>\n",
              "            <td>documento</td>\n",
              "            <td>1104</td>\n",
              "            <td>CREATE TABLE documento (<br>\tid INTEGER,<br>\tid_partner INTEGER<br>)</td>\n",
              "        </tr>\n",
              "    </tbody>\n",
              "</table>"
            ]
          },
          "metadata": {},
          "execution_count": 15
        }
      ]
    },
    {
      "cell_type": "code",
      "execution_count": 16,
      "id": "4aba4071",
      "metadata": {
        "id": "4aba4071",
        "outputId": "3f78d420-098b-4cc5-aff9-edcc3f9c0366",
        "colab": {
          "base_uri": "https://localhost:8080/",
          "height": 225
        }
      },
      "outputs": [
        {
          "output_type": "stream",
          "name": "stdout",
          "text": [
            " * sqlite://///tmp/github/30-day-challenges-with-sql/challenges/utils/db/database.db\n",
            "Done.\n"
          ]
        },
        {
          "output_type": "execute_result",
          "data": {
            "text/plain": [
              "[('astrid.gruber@apple.at',),\n",
              " ('daan_peeters@apple.be',),\n",
              " ('tgoyer@apple.com',),\n",
              " ('isabelle_mercier@apple.fr',),\n",
              " ('terhi.hamalainen@apple.fi',),\n",
              " ('ladislav_kovacs@apple.hu',),\n",
              " ('hughoreilly@apple.ie',)]"
            ],
            "text/html": [
              "<table>\n",
              "    <thead>\n",
              "        <tr>\n",
              "            <th>Email</th>\n",
              "        </tr>\n",
              "    </thead>\n",
              "    <tbody>\n",
              "        <tr>\n",
              "            <td>astrid.gruber@apple.at</td>\n",
              "        </tr>\n",
              "        <tr>\n",
              "            <td>daan_peeters@apple.be</td>\n",
              "        </tr>\n",
              "        <tr>\n",
              "            <td>tgoyer@apple.com</td>\n",
              "        </tr>\n",
              "        <tr>\n",
              "            <td>isabelle_mercier@apple.fr</td>\n",
              "        </tr>\n",
              "        <tr>\n",
              "            <td>terhi.hamalainen@apple.fi</td>\n",
              "        </tr>\n",
              "        <tr>\n",
              "            <td>ladislav_kovacs@apple.hu</td>\n",
              "        </tr>\n",
              "        <tr>\n",
              "            <td>hughoreilly@apple.ie</td>\n",
              "        </tr>\n",
              "    </tbody>\n",
              "</table>"
            ]
          },
          "metadata": {},
          "execution_count": 16
        }
      ],
      "source": [
        "%%sql\n",
        "\n",
        "select email from Customer where email like '%apple%'"
      ]
    }
  ],
  "metadata": {
    "kernelspec": {
      "display_name": "Python 3 (ipykernel)",
      "language": "python",
      "name": "python3"
    },
    "language_info": {
      "codemirror_mode": {
        "name": "ipython",
        "version": 3
      },
      "file_extension": ".py",
      "mimetype": "text/x-python",
      "name": "python",
      "nbconvert_exporter": "python",
      "pygments_lexer": "ipython3",
      "version": "3.7.9"
    },
    "colab": {
      "name": "notebook_challenge_001_level1.ipynb",
      "provenance": []
    }
  },
  "nbformat": 4,
  "nbformat_minor": 5
}