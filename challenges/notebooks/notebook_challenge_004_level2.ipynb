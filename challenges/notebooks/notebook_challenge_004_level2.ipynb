{
  "cells": [
    {
      "cell_type": "markdown",
      "id": "160bbfb2",
      "metadata": {
        "id": "160bbfb2"
      },
      "source": [
        "\n",
        "# Por favor tente resolver o desafio sozinho, não pegue atalhos, tu consegue, é só colocar a cabeça para funcionar."
      ]
    },
    {
      "cell_type": "markdown",
      "id": "e0e85531",
      "metadata": {
        "id": "e0e85531"
      },
      "source": [
        "Execute a célula abaixo apenas uma vez."
      ]
    },
    {
      "cell_type": "code",
      "execution_count": 1,
      "id": "7d725090",
      "metadata": {
        "id": "7d725090",
        "outputId": "45786760-1e6f-46d1-cea2-bba61580f2f2",
        "colab": {
          "base_uri": "https://localhost:8080/"
        }
      },
      "outputs": [
        {
          "output_type": "stream",
          "name": "stderr",
          "text": [
            "Cloning into '30-day-challenges-with-sql'...\n"
          ]
        }
      ],
      "source": [
        "%%bash\n",
        "\n",
        "rm -rf /tmp/github; mkdir -p /tmp/github; cd /tmp/github\n",
        "git clone https://github.com/romeritomorais/30-day-challenges-with-sql.git\n",
        "#sh /tmp/github/30-day-challenges-with-sql/challenges/utils/install-miniconda.sh > /dev/null 2>&1\n",
        "#sh /tmp/github/30-day-challenges-with-sql/challenges/utils/update-miniconda.sh > /dev/null 2>&1"
      ]
    },
    {
      "cell_type": "markdown",
      "id": "467f1c4a",
      "metadata": {
        "id": "467f1c4a"
      },
      "source": [
        "Neste desafio precisamos dos valores numéricos inteiros contidos na coluna `Customer.PostalCode`, que possuam 8 caracteres.\n",
        "\n",
        "resultado esperado:  \n",
        "\n",
        "|CustomerId|Address                        |State|Country|Postal_Code\n",
        "|----------:|------------------------------:|----:|------:|----------\n",
        "|         1|Av. Brigadeiro Faria Lima, 2170|SP   |Brazil |   12227000\n",
        "|        12|Praça Pio X, 119               |RJ   |Brazil |   20040020\n",
        "|        13|Qe 7 Bloco G                   |DF   |Brazil |   71020677\n",
        "|        20|541 Del Medio Avenue           |CA   |USA    |   94040111\n",
        "\n",
        "Na célula onde se encontra o `%%sql`, escreva sua query, sem deletar o comando. Exemplo:  \n",
        "```python\n",
        "%%sql\n",
        "select * from Customer\n",
        "```\n",
        "\n",
        "Para resolução utilize a documentação do sqlite:https://www.sqlite.org/docs.html"
      ]
    },
    {
      "cell_type": "code",
      "execution_count": 2,
      "id": "981a5488",
      "metadata": {
        "id": "981a5488",
        "outputId": "96461a43-e98f-4ed0-d780-3801b8c885f1",
        "colab": {
          "base_uri": "https://localhost:8080/",
          "height": 35
        }
      },
      "outputs": [
        {
          "output_type": "execute_result",
          "data": {
            "text/plain": [
              "'Connected: @//tmp/github/30-day-challenges-with-sql/challenges/utils/db/database.db'"
            ],
            "application/vnd.google.colaboratory.intrinsic+json": {
              "type": "string"
            }
          },
          "metadata": {},
          "execution_count": 2
        }
      ],
      "source": [
        "%load_ext sql\n",
        "%sql sqlite://///tmp/github/30-day-challenges-with-sql/challenges/utils/db/database.db"
      ]
    },
    {
      "cell_type": "code",
      "source": [
        "%%sql\n",
        "\n",
        "SELECT * FROM Customer LIMIT 10"
      ],
      "metadata": {
        "id": "9zOs56ZaPbFt",
        "outputId": "a55df00e-1cdd-4a2c-c937-5e581c74947f",
        "colab": {
          "base_uri": "https://localhost:8080/",
          "height": 289
        }
      },
      "id": "9zOs56ZaPbFt",
      "execution_count": 5,
      "outputs": [
        {
          "output_type": "stream",
          "name": "stdout",
          "text": [
            " * sqlite://///tmp/github/30-day-challenges-with-sql/challenges/utils/db/database.db\n",
            "Done.\n"
          ]
        },
        {
          "output_type": "execute_result",
          "data": {
            "text/plain": [
              "[(1, 'Luís', 'Gonçalves', 'Embraer - Empresa Brasileira de Aeronáutica S.A.', 'Av. Brigadeiro Faria Lima, 2170', 'São José dos Campos', 'SP', 'Brazil', '12227-000', '+55 (12) 3923-5555', '+55 (12) 3923-5566', 'luisg@embraer.com.br', 3),\n",
              " (2, 'Leonie', 'Köhler', None, 'Theodor-Heuss-Straße 34', 'Stuttgart', None, 'Germany', '70174', '+49 0711 2842222', None, 'leonekohler@surfeu.de', 5),\n",
              " (3, 'François', 'Tremblay', None, '1498 rue Bélanger', 'Montréal', 'QC', 'Canada', 'H2G 1A7', '+1 (514) 721-4711', None, 'ftremblay@gmail.com', 3),\n",
              " (4, 'Bjørn', 'Hansen', None, 'Ullevålsveien 14', 'Oslo', None, 'Norway', '0171', '+47 22 44 22 22', None, 'bjorn.hansen@yahoo.no', 4),\n",
              " (5, 'František', 'Wichterlová', 'JetBrains s.r.o.', 'Klanova 9/506', 'Prague', None, 'Czech Republic', '14700', '+420 2 4172 5555', '+420 2 4172 5555', 'frantisekw@jetbrains.com', 4),\n",
              " (6, 'Helena', 'Holý', None, 'Rilská 3174/6', 'Prague', None, 'Czech Republic', '14300', '+420 2 4177 0449', None, 'hholy@gmail.com', 5),\n",
              " (7, 'Astrid', 'Gruber', None, 'Rotenturmstraße 4, 1010 Innere Stadt', 'Vienne', None, 'Austria', '1010', '+43 01 5134505', None, 'astrid.gruber@apple.at', 5),\n",
              " (8, 'Daan', 'Peeters', None, 'Grétrystraat 63', 'Brussels', None, 'Belgium', '1000', '+32 02 219 03 03', None, 'daan_peeters@apple.be', 4),\n",
              " (9, 'Kara', 'Nielsen', None, 'Sønder Boulevard 51', 'Copenhagen', None, 'Denmark', '1720', '+453 3331 9991', None, 'kara.nielsen@jubii.dk', 4),\n",
              " (10, 'Eduardo', 'Martins', 'Woodstock Discos', 'Rua Dr. Falcão Filho, 155', 'São Paulo', 'SP', 'Brazil', '01007-010', '+55 (11) 3033-5446', '+55 (11) 3033-4564', 'eduardo@woodstock.com.br', 4)]"
            ],
            "text/html": [
              "<table>\n",
              "    <thead>\n",
              "        <tr>\n",
              "            <th>CustomerId</th>\n",
              "            <th>FirstName</th>\n",
              "            <th>LastName</th>\n",
              "            <th>Company</th>\n",
              "            <th>Address</th>\n",
              "            <th>City</th>\n",
              "            <th>State</th>\n",
              "            <th>Country</th>\n",
              "            <th>PostalCode</th>\n",
              "            <th>Phone</th>\n",
              "            <th>Fax</th>\n",
              "            <th>Email</th>\n",
              "            <th>SupportRepId</th>\n",
              "        </tr>\n",
              "    </thead>\n",
              "    <tbody>\n",
              "        <tr>\n",
              "            <td>1</td>\n",
              "            <td>Luís</td>\n",
              "            <td>Gonçalves</td>\n",
              "            <td>Embraer - Empresa Brasileira de Aeronáutica S.A.</td>\n",
              "            <td>Av. Brigadeiro Faria Lima, 2170</td>\n",
              "            <td>São José dos Campos</td>\n",
              "            <td>SP</td>\n",
              "            <td>Brazil</td>\n",
              "            <td>12227-000</td>\n",
              "            <td>+55 (12) 3923-5555</td>\n",
              "            <td>+55 (12) 3923-5566</td>\n",
              "            <td>luisg@embraer.com.br</td>\n",
              "            <td>3</td>\n",
              "        </tr>\n",
              "        <tr>\n",
              "            <td>2</td>\n",
              "            <td>Leonie</td>\n",
              "            <td>Köhler</td>\n",
              "            <td>None</td>\n",
              "            <td>Theodor-Heuss-Straße 34</td>\n",
              "            <td>Stuttgart</td>\n",
              "            <td>None</td>\n",
              "            <td>Germany</td>\n",
              "            <td>70174</td>\n",
              "            <td>+49 0711 2842222</td>\n",
              "            <td>None</td>\n",
              "            <td>leonekohler@surfeu.de</td>\n",
              "            <td>5</td>\n",
              "        </tr>\n",
              "        <tr>\n",
              "            <td>3</td>\n",
              "            <td>François</td>\n",
              "            <td>Tremblay</td>\n",
              "            <td>None</td>\n",
              "            <td>1498 rue Bélanger</td>\n",
              "            <td>Montréal</td>\n",
              "            <td>QC</td>\n",
              "            <td>Canada</td>\n",
              "            <td>H2G 1A7</td>\n",
              "            <td>+1 (514) 721-4711</td>\n",
              "            <td>None</td>\n",
              "            <td>ftremblay@gmail.com</td>\n",
              "            <td>3</td>\n",
              "        </tr>\n",
              "        <tr>\n",
              "            <td>4</td>\n",
              "            <td>Bjørn</td>\n",
              "            <td>Hansen</td>\n",
              "            <td>None</td>\n",
              "            <td>Ullevålsveien 14</td>\n",
              "            <td>Oslo</td>\n",
              "            <td>None</td>\n",
              "            <td>Norway</td>\n",
              "            <td>0171</td>\n",
              "            <td>+47 22 44 22 22</td>\n",
              "            <td>None</td>\n",
              "            <td>bjorn.hansen@yahoo.no</td>\n",
              "            <td>4</td>\n",
              "        </tr>\n",
              "        <tr>\n",
              "            <td>5</td>\n",
              "            <td>František</td>\n",
              "            <td>Wichterlová</td>\n",
              "            <td>JetBrains s.r.o.</td>\n",
              "            <td>Klanova 9/506</td>\n",
              "            <td>Prague</td>\n",
              "            <td>None</td>\n",
              "            <td>Czech Republic</td>\n",
              "            <td>14700</td>\n",
              "            <td>+420 2 4172 5555</td>\n",
              "            <td>+420 2 4172 5555</td>\n",
              "            <td>frantisekw@jetbrains.com</td>\n",
              "            <td>4</td>\n",
              "        </tr>\n",
              "        <tr>\n",
              "            <td>6</td>\n",
              "            <td>Helena</td>\n",
              "            <td>Holý</td>\n",
              "            <td>None</td>\n",
              "            <td>Rilská 3174/6</td>\n",
              "            <td>Prague</td>\n",
              "            <td>None</td>\n",
              "            <td>Czech Republic</td>\n",
              "            <td>14300</td>\n",
              "            <td>+420 2 4177 0449</td>\n",
              "            <td>None</td>\n",
              "            <td>hholy@gmail.com</td>\n",
              "            <td>5</td>\n",
              "        </tr>\n",
              "        <tr>\n",
              "            <td>7</td>\n",
              "            <td>Astrid</td>\n",
              "            <td>Gruber</td>\n",
              "            <td>None</td>\n",
              "            <td>Rotenturmstraße 4, 1010 Innere Stadt</td>\n",
              "            <td>Vienne</td>\n",
              "            <td>None</td>\n",
              "            <td>Austria</td>\n",
              "            <td>1010</td>\n",
              "            <td>+43 01 5134505</td>\n",
              "            <td>None</td>\n",
              "            <td>astrid.gruber@apple.at</td>\n",
              "            <td>5</td>\n",
              "        </tr>\n",
              "        <tr>\n",
              "            <td>8</td>\n",
              "            <td>Daan</td>\n",
              "            <td>Peeters</td>\n",
              "            <td>None</td>\n",
              "            <td>Grétrystraat 63</td>\n",
              "            <td>Brussels</td>\n",
              "            <td>None</td>\n",
              "            <td>Belgium</td>\n",
              "            <td>1000</td>\n",
              "            <td>+32 02 219 03 03</td>\n",
              "            <td>None</td>\n",
              "            <td>daan_peeters@apple.be</td>\n",
              "            <td>4</td>\n",
              "        </tr>\n",
              "        <tr>\n",
              "            <td>9</td>\n",
              "            <td>Kara</td>\n",
              "            <td>Nielsen</td>\n",
              "            <td>None</td>\n",
              "            <td>Sønder Boulevard 51</td>\n",
              "            <td>Copenhagen</td>\n",
              "            <td>None</td>\n",
              "            <td>Denmark</td>\n",
              "            <td>1720</td>\n",
              "            <td>+453 3331 9991</td>\n",
              "            <td>None</td>\n",
              "            <td>kara.nielsen@jubii.dk</td>\n",
              "            <td>4</td>\n",
              "        </tr>\n",
              "        <tr>\n",
              "            <td>10</td>\n",
              "            <td>Eduardo</td>\n",
              "            <td>Martins</td>\n",
              "            <td>Woodstock Discos</td>\n",
              "            <td>Rua Dr. Falcão Filho, 155</td>\n",
              "            <td>São Paulo</td>\n",
              "            <td>SP</td>\n",
              "            <td>Brazil</td>\n",
              "            <td>01007-010</td>\n",
              "            <td>+55 (11) 3033-5446</td>\n",
              "            <td>+55 (11) 3033-4564</td>\n",
              "            <td>eduardo@woodstock.com.br</td>\n",
              "            <td>4</td>\n",
              "        </tr>\n",
              "    </tbody>\n",
              "</table>"
            ]
          },
          "metadata": {},
          "execution_count": 5
        }
      ]
    },
    {
      "cell_type": "code",
      "execution_count": 12,
      "id": "275157e9",
      "metadata": {
        "id": "275157e9",
        "outputId": "fd25b740-d6b8-4f49-ae42-868cf5ab2a69",
        "colab": {
          "base_uri": "https://localhost:8080/",
          "height": 161
        }
      },
      "outputs": [
        {
          "output_type": "stream",
          "name": "stdout",
          "text": [
            " * sqlite://///tmp/github/30-day-challenges-with-sql/challenges/utils/db/database.db\n",
            "Done.\n"
          ]
        },
        {
          "output_type": "execute_result",
          "data": {
            "text/plain": [
              "[(1, 'Av. Brigadeiro Faria Lima, 2170', 'SP', 'Brazil', 12227000),\n",
              " (12, 'Praça Pio X, 119', 'RJ', 'Brazil', 20040020),\n",
              " (13, 'Qe 7 Bloco G', 'DF', 'Brazil', 71020677),\n",
              " (20, '541 Del Medio Avenue', 'CA', 'USA', 94040111)]"
            ],
            "text/html": [
              "<table>\n",
              "    <thead>\n",
              "        <tr>\n",
              "            <th>CustomerId</th>\n",
              "            <th>Address</th>\n",
              "            <th>State</th>\n",
              "            <th>Country</th>\n",
              "            <th>Postal_Code</th>\n",
              "        </tr>\n",
              "    </thead>\n",
              "    <tbody>\n",
              "        <tr>\n",
              "            <td>1</td>\n",
              "            <td>Av. Brigadeiro Faria Lima, 2170</td>\n",
              "            <td>SP</td>\n",
              "            <td>Brazil</td>\n",
              "            <td>12227000</td>\n",
              "        </tr>\n",
              "        <tr>\n",
              "            <td>12</td>\n",
              "            <td>Praça Pio X, 119</td>\n",
              "            <td>RJ</td>\n",
              "            <td>Brazil</td>\n",
              "            <td>20040020</td>\n",
              "        </tr>\n",
              "        <tr>\n",
              "            <td>13</td>\n",
              "            <td>Qe 7 Bloco G</td>\n",
              "            <td>DF</td>\n",
              "            <td>Brazil</td>\n",
              "            <td>71020677</td>\n",
              "        </tr>\n",
              "        <tr>\n",
              "            <td>20</td>\n",
              "            <td>541 Del Medio Avenue</td>\n",
              "            <td>CA</td>\n",
              "            <td>USA</td>\n",
              "            <td>94040111</td>\n",
              "        </tr>\n",
              "    </tbody>\n",
              "</table>"
            ]
          },
          "metadata": {},
          "execution_count": 12
        }
      ],
      "source": [
        "%%sql\n",
        "\n",
        "SELECT CustomerId, Address, State, Country, cast(replace(PostalCode, '-', '') as integer) as Postal_Code FROM Customer WHERE length(Postal_Code)=8"
      ]
    }
  ],
  "metadata": {
    "kernelspec": {
      "display_name": "Python 3 (ipykernel)",
      "language": "python",
      "name": "python3"
    },
    "language_info": {
      "codemirror_mode": {
        "name": "ipython",
        "version": 3
      },
      "file_extension": ".py",
      "mimetype": "text/x-python",
      "name": "python",
      "nbconvert_exporter": "python",
      "pygments_lexer": "ipython3",
      "version": "3.7.9"
    },
    "colab": {
      "name": "notebook_challenge_004_level2.ipynb",
      "provenance": []
    }
  },
  "nbformat": 4,
  "nbformat_minor": 5
}